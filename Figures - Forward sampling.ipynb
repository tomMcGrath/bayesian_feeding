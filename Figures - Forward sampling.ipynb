{
 "cells": [
  {
   "cell_type": "code",
   "execution_count": 1,
   "metadata": {},
   "outputs": [
    {
     "data": {
      "text/plain": [
       "<module 'helpers' from 'helpers.pyc'>"
      ]
     },
     "execution_count": 1,
     "metadata": {},
     "output_type": "execute_result"
    }
   ],
   "source": [
    "import numpy as np\n",
    "import matplotlib.pyplot as plt\n",
    "import os\n",
    "import matplotlib as mpl\n",
    "import matplotlib.cm as cm\n",
    "import cPickle as pickle\n",
    "import helpers\n",
    "import fwd_sample as fs\n",
    "import pymc3 as pm\n",
    "reload(helpers)"
   ]
  },
  {
   "cell_type": "code",
   "execution_count": 2,
   "metadata": {
    "collapsed": true
   },
   "outputs": [],
   "source": [
    "trace = pickle.load(open(\"all_data_trace.p\", \"rb\"))\n",
    "subj_data = pickle.load(open(\"all_data_subj.p\", \"rb\"))"
   ]
  },
  {
   "cell_type": "code",
   "execution_count": 3,
   "metadata": {
    "collapsed": true
   },
   "outputs": [],
   "source": [
    "## Create dose colourmapper\n",
    "## PYY\n",
    "PYY_dict = {1.5:5, 7.5:8, 300.0:10}\n",
    "PYY_norm = mpl.colors.Normalize(vmin = 0.0,\n",
    "                                vmax = 10)\n",
    "\n",
    "PYY_cmap = cm.Greens\n",
    "\n",
    "PYY_dose_col = cm.ScalarMappable(norm=PYY_norm, cmap=PYY_cmap)\n",
    "\n",
    "## Create day/night line and marker style\n",
    "period_ms = {'L':'o', 'D':'^'}\n",
    "period_ls = {'L':'-', 'D':'--'}"
   ]
  },
  {
   "cell_type": "code",
   "execution_count": 4,
   "metadata": {
    "collapsed": true
   },
   "outputs": [],
   "source": [
    "## Create metadata holder\n",
    "metadata = []\n",
    "groups = []\n",
    "\n",
    "for i in subj_data:\n",
    "    x = []\n",
    "    group = i[0].split('/')[1]\n",
    "    x.append(group)\n",
    "    x += i[1].split('_')\n",
    "    \n",
    "    metadata.append(x)\n",
    "    \n",
    "    if group not in groups:\n",
    "        groups.append(group)\n",
    "        \n",
    "group_id_dict = {}\n",
    "for i, group_name in enumerate(groups):\n",
    "    group_id_dict[i] = group_name\n",
    "    \n",
    "group_list = np.arange(len(groups))"
   ]
  },
  {
   "cell_type": "code",
   "execution_count": 5,
   "metadata": {
    "collapsed": true
   },
   "outputs": [],
   "source": [
    "## Index mask\n",
    "rat_idx = np.unique(trace['theta1'][0,:], return_index=True)[1]\n",
    "rat_idx = sorted(rat_idx)\n",
    "\n",
    "## Subject data\n",
    "subj_labels = []\n",
    "\n",
    "for i in subj_data:\n",
    "    subj_labels.append(i[1].split('_'))\n",
    "    \n",
    "subj_labels = np.array(subj_labels)\n",
    "\n",
    "## Amount colourmapper\n",
    "amts_save = []\n",
    "for i, idx in enumerate(rat_idx):\n",
    "    ## Formatting stuff\n",
    "    data = subj_labels[i]    \n",
    "    path = 'all_data/' + '_'.join(data[0:4])\n",
    "    filename = '_'.join(data)\n",
    "    amt = helpers.amt_from_file(path, filename)\n",
    "    amts_save.append(amt)\n",
    "    \n",
    "amt_norm = mpl.colors.Normalize(vmin = min(amts_save),\n",
    "                                vmax = max(amts_save))\n",
    "\n",
    "cmap = cm.plasma\n",
    "\n",
    "amt_col = cm.ScalarMappable(norm=amt_norm, cmap=cmap)"
   ]
  },
  {
   "cell_type": "markdown",
   "metadata": {},
   "source": [
    "# The model accurately recapitulates feeding summary statistics at the individual level"
   ]
  },
  {
   "cell_type": "code",
   "execution_count": 79,
   "metadata": {
    "scrolled": false
   },
   "outputs": [
    {
     "data": {
      "image/png": "[encoded data removed]",
      "text/plain": [
       "<matplotlib.figure.Figure at 0x7fd9fd57edd0>"
      ]
     },
     "metadata": {},
     "output_type": "display_data"
    }
   ],
   "source": [
    "reload(helpers)\n",
    "reload(fs)\n",
    "\n",
    "num_samples = 1000\n",
    "x0 = 0\n",
    "\n",
    "full_post = helpers.get_dataset(trace, rat_idx)\n",
    "\"\"\"\n",
    "mean_amts = []\n",
    "mean_rates = []\n",
    "\n",
    "true_amts = []\n",
    "true_rates = []\n",
    "\n",
    "cs = []\n",
    "\"\"\"\n",
    "\n",
    "fig, ax = plt.subplots(1, figsize=(10,7.5))\n",
    "\n",
    "for i, idx in enumerate(rat_idx):\n",
    "    ## draw in true amounts\n",
    "    data = subj_labels[i]    \n",
    "    path = 'all_data/' + '_'.join(data[0:4])\n",
    "    filename = '_'.join(data)\n",
    "    amt = helpers.amt_from_file(path, filename)\n",
    "    #true_amts.append(amt)\n",
    "    x = amt\n",
    "    \n",
    "    ## use to get duration for sampling\n",
    "    tmax = 3600*helpers.infer_duration(filename)\n",
    "    true_rates.append(amt/tmax)\n",
    "    \n",
    "    ## draw samples from posterior\n",
    "    ## NOTE: currently uses posterior mean, not full posterior\n",
    "    rat_post = full_post[:,:,i]\n",
    "    theta = np.mean(rat_post, axis=1) # PM comes in here\n",
    "    sample_amts = []\n",
    "    sample_rates = []\n",
    "    \n",
    "    for j in range(num_samples):\n",
    "        k = np.random.randint(3000)\n",
    "        theta = rat_post[:,k]\n",
    "        spl = fs.sample(tmax, theta, x0)[1]\n",
    "        sample_amts.append(spl)\n",
    "        sample_rates.append(spl/tmax)\n",
    "        \n",
    "    #mean_amts.append(np.mean(sample_amts))\n",
    "    #mean_rates.append(np.mean(sample_rates))\n",
    "    y = np.mean(sample_amts)\n",
    "\n",
    "    ## Colour points by drug dose, marker style from photoperiod\n",
    "    ms = period_ms[data[3]]\n",
    "    label = data[0]+data[1]+data[3]\n",
    "    c = helpers.get_colour(data[:4])\n",
    "    #cs.append(c)\n",
    "    \n",
    "    ax.scatter(x, y, c=c, marker=ms)\n",
    "    \n",
    "\n",
    "## Now do the plotting\n",
    "\n",
    "\n",
    "true = np.arange(np.max(true_amts))\n",
    "#ax.scatter(true_amts, mean_amts, c=cs, marker=ms)\n",
    "ax.plot(true, true, c='k', ls='--')\n",
    "\n",
    "ax.set_ylabel('Model predicted intake (kcal)')\n",
    "ax.set_xlabel('True food intake (kcal)')\n",
    "\n",
    "\"\"\"\n",
    "true = np.linspace(np.min(true_rates), np.max(true_rates), 1000)\n",
    "ax.scatter(true_rates, mean_rates)\n",
    "ax.plot(true, true, c='k', ls='--')\n",
    "\n",
    "ax.set_xlim([min(true_rates), max(true_rates)])\n",
    "ax.set_ylim([min(mean_rates), max(mean_rates)])\n",
    "\"\"\"\n",
    "plt.show()"
   ]
  },
  {
   "cell_type": "code",
   "execution_count": 22,
   "metadata": {},
   "outputs": [
    {
     "name": "stdout",
     "output_type": "stream",
     "text": [
      "(3000, 4966)\n"
     ]
    }
   ],
   "source": [
    "print trace['theta1'].shape"
   ]
  },
  {
   "cell_type": "code",
   "execution_count": null,
   "metadata": {
    "collapsed": true
   },
   "outputs": [],
   "source": []
  }
 ],
 "metadata": {
  "kernelspec": {
   "display_name": "Python 2",
   "language": "python",
   "name": "python2"
  },
  "language_info": {
   "codemirror_mode": {
    "name": "ipython",
    "version": 2
   },
   "file_extension": ".py",
   "mimetype": "text/x-python",
   "name": "python",
   "nbconvert_exporter": "python",
   "pygments_lexer": "ipython2",
   "version": "2.7.13"
  }
 },
 "nbformat": 4,
 "nbformat_minor": 2
}
