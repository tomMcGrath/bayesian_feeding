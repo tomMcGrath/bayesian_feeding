{
 "cells": [
  {
   "cell_type": "code",
   "execution_count": 2,
   "metadata": {
    "collapsed": true
   },
   "outputs": [],
   "source": [
    "import numpy as np\n",
    "import pymc3 as pm\n",
    "import matplotlib.pyplot as plt\n",
    "import helpers\n",
    "import os\n",
    "import sys\n",
    "import matplotlib as mpl\n",
    "import cPickle as pickle\n",
    "import glob"
   ]
  },
  {
   "cell_type": "code",
   "execution_count": 11,
   "metadata": {},
   "outputs": [
    {
     "name": "stdout",
     "output_type": "stream",
     "text": [
      "all_PYY_8hr_trace.p all_PYY_8hr_idx.p\n",
      "LiCl_32.0_R_L_trace.p LiCl_32.0_R_L_idx.p\n",
      "PYY_1.5_A_D_trace.p PYY_1.5_A_D_idx.p\n",
      "PYY_Lep_8hr_trace.p PYY_Lep_8hr_idx.p\n",
      "sib_0.9_A_D_trace.p sib_0.9_A_D_idx.p\n",
      "PYY_7.5_R_L_trace.p PYY_7.5_R_L_idx.p\n",
      "LiCl_64.0_R_L_trace.p LiCl_64.0_R_L_idx.p\n",
      "new_all_data_trace.p new_all_data_idx.p\n",
      "GLP-1_100.0_A_D_trace.p GLP-1_100.0_A_D_idx.p\n",
      "saline_0.0_A_L_trace.p saline_0.0_A_L_idx.p\n",
      "saline_0.0_R_D_trace.p saline_0.0_R_D_idx.p\n",
      "new_all_data2_trace.p new_all_data2_idx.p\n",
      "Ex-4_0.3_A_D_trace.p Ex-4_0.3_A_D_idx.p\n",
      "vehicle_0.0_A_D_trace.p vehicle_0.0_A_D_idx.p\n",
      "PYY_300.0_A_D_trace.p PYY_300.0_A_D_idx.p\n",
      "GLP-1_30.0_A_D_trace.p GLP-1_30.0_A_D_idx.p\n",
      "all_PYY_8hr_hn_trace.p all_PYY_8hr_hn_idx.p\n",
      "saline_0.0_A_D_trace.p saline_0.0_A_D_idx.p\n",
      "LiCl_16.0_R_L_trace.p LiCl_16.0_R_L_idx.p\n",
      "Lep_2.0_A_D_trace.p Lep_2.0_A_D_idx.p\n",
      "LiCl_32.0_A_D_trace.p LiCl_32.0_A_D_idx.p\n",
      "PYY_1.5_R_L_trace.p PYY_1.5_R_L_idx.p\n",
      "PYY_7.5_A_D_trace.p PYY_7.5_A_D_idx.p\n",
      "GLP-1_300.0_A_D_trace.p GLP-1_300.0_A_D_idx.p\n",
      "PYY_300.0_R_L_trace.p PYY_300.0_R_L_idx.p\n",
      "saline_0.0_R_L_trace.p saline_0.0_R_L_idx.p\n",
      "all_data_trace.p all_data_idx.p\n"
     ]
    }
   ],
   "source": [
    "reload(helpers)\n",
    "traces = glob.glob('*_trace.p')\n",
    "\n",
    "for i in traces:\n",
    "    print i, helpers.run_name(i)+'_idx.p'"
   ]
  },
  {
   "cell_type": "code",
   "execution_count": 28,
   "metadata": {},
   "outputs": [
    {
     "data": {
      "image/png": "[encoded data removed]",
      "text/plain": [
       "<matplotlib.figure.Figure at 0x7f1dc1917e90>"
      ]
     },
     "metadata": {},
     "output_type": "display_data"
    }
   ],
   "source": [
    "import matplotlib.cm as cm\n",
    "#reload(helpers)\n",
    "\n",
    "x = np.linspace(0,1,100)\n",
    "\n",
    "fig, ax = plt.subplots(1)\n",
    "\n",
    "for xval in x:\n",
    "    #ax.scatter(x,x,c=cm.tab20c(0.2))\n",
    "    ax.scatter(x,x,c=cm.Set1(x))\n",
    "    \n",
    "    \n",
    "plt.show()"
   ]
  },
  {
   "cell_type": "code",
   "execution_count": 47,
   "metadata": {
    "collapsed": true
   },
   "outputs": [],
   "source": [
    "tracename = 'LiCl_64.0_R_L_trace.p'\n",
    "idxname = helpers.run_name(tracename)+'_idx.p'\n",
    "filesname = helpers.run_name(tracename)+'_filenames.p'\n",
    "\n",
    "trace = pickle.load(open(tracename, \"rb\"))\n",
    "idx = pickle.load(open(idxname, \"rb\"))\n",
    "files = pickle.load(open(filesname, \"rb\"))"
   ]
  },
  {
   "cell_type": "code",
   "execution_count": 48,
   "metadata": {},
   "outputs": [
    {
     "name": "stdout",
     "output_type": "stream",
     "text": [
      "(10000, 241)\n",
      "(241,)\n"
     ]
    }
   ],
   "source": [
    "print trace['theta1'].shape\n",
    "print idx.shape"
   ]
  },
  {
   "cell_type": "code",
   "execution_count": 67,
   "metadata": {},
   "outputs": [
    {
     "name": "stdout",
     "output_type": "stream",
     "text": [
      "saline_0.0_A_L_trace.p\n",
      "(10000, 193)\n",
      "(193,)\n",
      "['saline', '0.0', 'A', 'L']\n",
      "saline\n",
      "saline_0.0_R_L_trace.p\n",
      "(10000, 739)\n",
      "(739,)\n",
      "['saline', '0.0', 'R', 'L']\n",
      "saline\n",
      "saline_0.0_A_D_trace.p\n",
      "(10000, 975)\n",
      "(975,)\n",
      "['saline', '0.0', 'A', 'D']\n",
      "saline\n",
      "saline_0.0_R_D_trace.p\n",
      "(10000, 289)\n",
      "(289,)\n",
      "['saline', '0.0', 'R', 'D']\n",
      "saline\n"
     ]
    },
    {
     "data": {
      "image/png": "[encoded data removed]",
      "text/plain": [
       "<matplotlib.figure.Figure at 0x7f1dc0adf510>"
      ]
     },
     "metadata": {},
     "output_type": "display_data"
    }
   ],
   "source": [
    "reload(helpers)\n",
    "\"\"\"\n",
    "tracenames = ['PYY_1.5_A_D_trace.p',\n",
    "              'PYY_7.5_A_D_trace.p', \n",
    "              'PYY_300.0_A_D_trace.p',\n",
    "              'saline_0.0_A_L_trace.p', \n",
    "              'saline_0.0_R_L_trace.p', \n",
    "              'saline_0.0_A_D_trace.p', \n",
    "              'saline_0.0_R_D_trace.p']\n",
    "\"\"\"\n",
    "\n",
    "tracenames = ['saline_0.0_A_L_trace.p', \n",
    "              'saline_0.0_R_L_trace.p', \n",
    "              'saline_0.0_A_D_trace.p', \n",
    "              'saline_0.0_R_D_trace.p']\n",
    "\n",
    "fig, ax = plt.subplots(1)\n",
    "\n",
    "for tracename in tracenames:\n",
    "    print tracename\n",
    "    \n",
    "    idxname = helpers.run_name(tracename)+'_idx.p'\n",
    "    filesname = helpers.run_name(tracename)+'_filenames.p'\n",
    "\n",
    "    trace = pickle.load(open(tracename, \"rb\"))\n",
    "    idx = pickle.load(open(idxname, \"rb\"))\n",
    "    files = pickle.load(open(filesname, \"rb\"))\n",
    "\n",
    "    print trace['theta1'].shape\n",
    "    print idx.shape\n",
    "\n",
    "    data = tracename.split('_')[:4]\n",
    "    print data\n",
    "    c = helpers.get_colour(data)\n",
    "\n",
    "    x = np.mean(trace['theta4'], axis=0)\n",
    "    y = np.mean(trace['theta5'], axis=0)\n",
    "\n",
    "    ax.scatter(x, y, c=c)\n",
    "    \n",
    "plt.show()"
   ]
  },
  {
   "cell_type": "code",
   "execution_count": null,
   "metadata": {
    "collapsed": true
   },
   "outputs": [],
   "source": []
  },
  {
   "cell_type": "code",
   "execution_count": null,
   "metadata": {
    "collapsed": true
   },
   "outputs": [],
   "source": []
  }
 ],
 "metadata": {
  "kernelspec": {
   "display_name": "Python 2",
   "language": "python",
   "name": "python2"
  },
  "language_info": {
   "codemirror_mode": {
    "name": "ipython",
    "version": 2
   },
   "file_extension": ".py",
   "mimetype": "text/x-python",
   "name": "python",
   "nbconvert_exporter": "python",
   "pygments_lexer": "ipython2",
   "version": "2.7.13"
  }
 },
 "nbformat": 4,
 "nbformat_minor": 2
}
