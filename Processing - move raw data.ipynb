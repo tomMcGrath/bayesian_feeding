{
 "cells": [
  {
   "cell_type": "code",
   "execution_count": 4,
   "metadata": {
    "collapsed": true
   },
   "outputs": [],
   "source": [
    "import os\n",
    "import shutil\n",
    "import re"
   ]
  },
  {
   "cell_type": "code",
   "execution_count": 5,
   "metadata": {},
   "outputs": [
    {
     "name": "stdout",
     "output_type": "stream",
     "text": [
      "Total number of files copied:  198\n"
     ]
    }
   ],
   "source": [
    "raw_data_dir = 'raw_data/'\n",
    "destination_dir = 'data_to_process'\n",
    "\n",
    "## Regex to match bout filenames\n",
    "pattern = re.compile('201[0-9]-[0-9]*-[0-9]*.B[0-9]*.CSV')\n",
    "\n",
    "## Walk the data folders, copying if match the regex\n",
    "numfiles = 0\n",
    "numdups = 0\n",
    "copied = []\n",
    "for i in os.walk(raw_data_dir):\n",
    "    filepath = i[0]\n",
    "    files = i[2]\n",
    "    \n",
    "    ## Check against regex, save in case of duplicates and copy\n",
    "    for datafile in files:\n",
    "        if pattern.match(datafile):\n",
    "            if datafile in copied:\n",
    "                print 'Duplicate: ', datafile\n",
    "                numdups += 1\n",
    "                print os.path.getsize(filepath+'/'+datafile)\n",
    "            \n",
    "            shutil.copy(filepath+'/'+datafile, destination_dir)\n",
    "            copied.append(datafile)\n",
    "            numfiles += 1\n",
    "\n",
    "print 'Total number of files copied: ', numfiles - numdups"
   ]
  },
  {
   "cell_type": "code",
   "execution_count": null,
   "metadata": {
    "collapsed": true
   },
   "outputs": [],
   "source": []
  }
 ],
 "metadata": {
  "kernelspec": {
   "display_name": "Python 2",
   "language": "python",
   "name": "python2"
  },
  "language_info": {
   "codemirror_mode": {
    "name": "ipython",
    "version": 2
   },
   "file_extension": ".py",
   "mimetype": "text/x-python",
   "name": "python",
   "nbconvert_exporter": "python",
   "pygments_lexer": "ipython2",
   "version": "2.7.13"
  }
 },
 "nbformat": 4,
 "nbformat_minor": 2
}
