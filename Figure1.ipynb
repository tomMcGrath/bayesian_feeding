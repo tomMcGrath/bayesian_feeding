{
 "cells": [
  {
   "cell_type": "code",
   "execution_count": 1,
   "metadata": {},
   "outputs": [
    {
     "data": {
      "text/plain": [
       "<module 'helpers' from 'helpers.pyc'>"
      ]
     },
     "execution_count": 1,
     "metadata": {},
     "output_type": "execute_result"
    }
   ],
   "source": [
    "import numpy as np\n",
    "import matplotlib.pyplot as plt\n",
    "import os\n",
    "import matplotlib as mpl\n",
    "import matplotlib.cm as cm\n",
    "import cPickle as pickle\n",
    "import helpers\n",
    "import plots\n",
    "import pandas as pd\n",
    "import glob\n",
    "import plot_ts\n",
    "reload(plots)\n",
    "reload(helpers)"
   ]
  },
  {
   "cell_type": "markdown",
   "metadata": {},
   "source": [
    "# Figure 1 notebook"
   ]
  },
  {
   "cell_type": "code",
   "execution_count": 2,
   "metadata": {},
   "outputs": [
    {
     "name": "stdout",
     "output_type": "stream",
     "text": [
      "theta1      float64\n",
      "theta2      float64\n",
      "theta3      float64\n",
      "theta4      float64\n",
      "theta5      float64\n",
      "theta6      float64\n",
      "theta7      float64\n",
      "theta8      float64\n",
      "drug         object\n",
      "dose        float64\n",
      "adlib        object\n",
      "period       object\n",
      "id            int64\n",
      "duration      int64\n",
      "filename     object\n",
      "filepath     object\n",
      "rate        float64\n",
      "x0           object\n",
      "drug_c       object\n",
      "rate_c       object\n",
      "ms           object\n",
      "dtype: object\n"
     ]
    }
   ],
   "source": [
    "## Load posterior mean dataframe\n",
    "df = pickle.load(open('pm_df.p', 'rb'))\n",
    "print df.dtypes\n",
    "\n",
    "mpl.rcParams.update({'font.size': 16})"
   ]
  },
  {
   "cell_type": "markdown",
   "metadata": {},
   "source": [
    "## Figure 1B: Stomach fullness is highly indicative of feeding behaviour and can be used to predict the intermeal interval"
   ]
  },
  {
   "cell_type": "code",
   "execution_count": null,
   "metadata": {
    "scrolled": false
   },
   "outputs": [
    {
     "name": "stdout",
     "output_type": "stream",
     "text": [
      "61183 61183 61183\n",
      "61183 61183 61183\n"
     ]
    },
    {
     "data": {
      "image/png": "[encoded data removed]",
      "text/plain": [
       "<matplotlib.figure.Figure at 0x7f9dc2428210>"
      ]
     },
     "metadata": {},
     "output_type": "display_data"
    }
   ],
   "source": [
    "reload(plots)\n",
    "import fwd_likelihoods as fl\n",
    "reload(fl)\n",
    "## Sampling parameters\n",
    "predict_index = 26 # 26 is good\n",
    "num_samples = 100\n",
    "tmax = 4*60*60\n",
    "\n",
    "## Get subject data\n",
    "subj_file = 'saline_0.0_A_L_5_20_2015-11-23.B0105.CSV'\n",
    "subj_path = '_'.join(subj_file.split('_')[:4])\n",
    "subj_path = 'new_all_data/' + subj_path + '/'\n",
    "filepath = subj_path + subj_file\n",
    "data = np.loadtxt(filepath, delimiter='\\t', usecols=(0,1,2,3,4))\n",
    "\n",
    "## Get subject posterior\n",
    "post_info = subj_file.split('_')\n",
    "\n",
    "idx1 = (df['drug'] == post_info[0]) & (df['dose'] == float(post_info[1]))\n",
    "idx2 = (df['adlib'] == post_info[2]) & (df['period'] == post_info[3])\n",
    "idx3 = (df['id'] == int(post_info[4]))\n",
    "animal_df = df[idx1 & idx2 &idx3]\n",
    "\n",
    "## Convert from transformed parameters\n",
    "thetas = ['theta1', 'theta2', 'theta3', 'theta4', 'theta5', 'theta6', 'theta7', 'theta8']\n",
    "pm_theta = np.array(animal_df[thetas])[0]\n",
    "theta7 = np.power(10., np.array(animal_df['theta7'])[0])\n",
    "theta8 = np.power(10., np.array(animal_df['theta8'])[0])\n",
    "\n",
    "## Do the plotting\n",
    "fig, axes, ax2 = plots.timeseries_predict_plot(data, \n",
    "                                          pm_theta,\n",
    "                                          predict_index, \n",
    "                                          num_samples,\n",
    "                                          tmax)\n",
    "\n",
    "#axes[0].set_xlim([-500, 30000])\n",
    "#axes[1].set_xlim([-500, 30000])\n",
    "#ax2.set_xlim([-500, 30000])\n",
    "axes[0].set_xticklabels([])\n",
    "axes[1].set_xlabel('Time since start (s)')\n",
    "axes[0].set_ylabel('Feeding rate \\n(g/s)')\n",
    "axes[1].set_ylabel('Stomach \\nfullness (kcal)')\n",
    "#ax2.set_ylabel('P(meal start)')\n",
    "#fig.tight_layout()\n",
    "plt.savefig('figures/1B.svg')\n",
    "plt.show()"
   ]
  },
  {
   "cell_type": "markdown",
   "metadata": {},
   "source": [
    "## Figure 1C: Model fit to microscopic feeding behaviour yields long-term calorie intakes that match those observed across a range of nutritional states, anorectic drugs and photoperiods"
   ]
  },
  {
   "cell_type": "code",
   "execution_count": null,
   "metadata": {
    "scrolled": false
   },
   "outputs": [],
   "source": [
    "import fwd_sample as fs\n",
    "import scipy\n",
    "reload(plots)\n",
    "reload(fs)\n",
    "reload(helpers)\n",
    "\n",
    "num_samples = 100\n",
    "\n",
    "fig, axes = plt.subplots(1, figsize=(5,5))\n",
    "\n",
    "true_vals = []\n",
    "post_predicts = []\n",
    "\n",
    "## Posterior predictive check function\n",
    "def ppc(row):\n",
    "    theta = np.array(row[thetas])\n",
    "    #duration = row['duration']\n",
    "    #rate = row['rate']\n",
    "    c = row['drug_c']\n",
    "    ms = row['ms']\n",
    "    x0 = float(row['x0'])\n",
    "    \n",
    "    duration = 8\n",
    "    samples = []\n",
    "    for i in range(0, num_samples):\n",
    "        samples.append(fs.sample(3600*duration, theta, x0)[1])\n",
    "        \n",
    "    samples = np.array(samples)\n",
    "    post_predict = np.mean(samples/duration)\n",
    "    \n",
    "    filename = helpers.get_filename(row)\n",
    "    filepath = row['filepath']\n",
    "    rate = helpers.amt_to_time(filepath, filename, 3600*duration)\n",
    "    rate = rate/duration\n",
    "    \n",
    "    if post_predict/rate > 1.5:\n",
    "        print post_predict/rate, duration, row['filepath'], row['filename']\n",
    "    axes.scatter(rate, post_predict, c=c, marker=ms)\n",
    "    ppc_err = np.std(samples/duration)\n",
    "    \"\"\"\n",
    "    axes.errorbar(rate, \n",
    "                  post_predict, \n",
    "                  yerr=ppc_err, \n",
    "                  fmt='o',\n",
    "                  ecolor=c, \n",
    "                  color=c, \n",
    "                  marker=ms)    \n",
    "    \"\"\"\n",
    "    \n",
    "    true_vals.append(rate)\n",
    "    post_predicts.append(post_predict)\n",
    "    \n",
    "# Iterate through the posterior means and plot\n",
    "df.apply(ppc, axis=1)\n",
    "\n",
    "## Visual guide for accuracy\n",
    "x = np.linspace(0, 2.6, 10)\n",
    "#axes.plot(x, x, c='k', ls='--')\n",
    "\n",
    "axes.set_xlim([0, 3])\n",
    "axes.set_ylim([0, 3])\n",
    "\n",
    "## Goodness of fit check\n",
    "slope, intercept, r_value, p_value, std_err = scipy.stats.linregress(true_vals, post_predicts)\n",
    "print r_value**2, p_value\n",
    "print slope, intercept\n",
    "#axes.plot(x, intercept + slope*x, c='r', ls='--')\n",
    "axes.set_xlabel('True food intake (g/hr)')\n",
    "axes.set_ylabel('Predicted food intake (g/hr)')\n",
    "\n",
    "## Save figure\n",
    "#fig.tight_layout()\n",
    "plt.savefig('figures/1C.svg')\n",
    "\n",
    "plt.show()"
   ]
  },
  {
   "cell_type": "markdown",
   "metadata": {
    "collapsed": true
   },
   "source": [
    "## Figure 1D: ethogram"
   ]
  },
  {
   "cell_type": "code",
   "execution_count": null,
   "metadata": {
    "scrolled": false
   },
   "outputs": [],
   "source": [
    "reload(plots)\n",
    "reload(helpers)\n",
    "\n",
    "folder = 'new_all_data/saline_0.0_R_L/'\n",
    "plots.plot_ethogram(folder, 9, maxlen=7*3600, ysize=100)\n",
    "\n",
    "## Save figure\n",
    "fig.tight_layout()\n",
    "plt.savefig('figures/1D.svg')\n",
    "\n",
    "plt.show()"
   ]
  },
  {
   "cell_type": "code",
   "execution_count": null,
   "metadata": {
    "collapsed": true
   },
   "outputs": [],
   "source": []
  }
 ],
 "metadata": {
  "kernelspec": {
   "display_name": "Python 2",
   "language": "python",
   "name": "python2"
  },
  "language_info": {
   "codemirror_mode": {
    "name": "ipython",
    "version": 2
   },
   "file_extension": ".py",
   "mimetype": "text/x-python",
   "name": "python",
   "nbconvert_exporter": "python",
   "pygments_lexer": "ipython2",
   "version": "2.7.13"
  }
 },
 "nbformat": 4,
 "nbformat_minor": 2
}
