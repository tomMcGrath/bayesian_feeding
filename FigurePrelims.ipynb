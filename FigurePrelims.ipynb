{
 "cells": [
  {
   "cell_type": "code",
   "execution_count": 1,
   "metadata": {},
   "outputs": [
    {
     "data": {
      "text/plain": [
       "<module 'helpers' from 'helpers.pyc'>"
      ]
     },
     "execution_count": 1,
     "metadata": {},
     "output_type": "execute_result"
    }
   ],
   "source": [
    "import numpy as np\n",
    "import matplotlib.pyplot as plt\n",
    "import os\n",
    "import matplotlib as mpl\n",
    "import matplotlib.cm as cm\n",
    "import cPickle as pickle\n",
    "import helpers\n",
    "import plots\n",
    "import pandas as pd\n",
    "import glob\n",
    "reload(plots)\n",
    "reload(helpers)"
   ]
  },
  {
   "cell_type": "markdown",
   "metadata": {},
   "source": [
    "# Figure preliminaries notebook\n",
    "\n",
    "The aim of this notebook is just to collect together the relevant data into a single dataframe to speed up plotting in the other notebooks. \n",
    "\n",
    "The notebook loads the traces and creates a dataframe for each, before concatenating these dataframes and pickling the result. This can then be loaded in the other notebooks."
   ]
  },
  {
   "cell_type": "code",
   "execution_count": null,
   "metadata": {},
   "outputs": [
    {
     "name": "stdout",
     "output_type": "stream",
     "text": [
      "Loading traces for traces/LiCl_32.0_R_L_trace.p\n",
      "Loading traces for traces/PYY_1.5_A_D_trace.p\n",
      "Loading traces for traces/sib_0.9_A_D_trace.p\n",
      "Loading traces for traces/PYY_7.5_R_L_trace.p\n",
      "Loading traces for traces/LiCl_64.0_R_L_trace.p\n",
      "Loading traces for traces/GLP-1_100.0_A_D_trace.p\n",
      "Loading traces for traces/saline_0.0_A_L_trace.p\n",
      "Loading traces for traces/saline_0.0_R_D_trace.p\n",
      "Loading traces for traces/Ex-4_0.3_A_D_trace.p\n",
      "Loading traces for traces/vehicle_0.0_A_D_trace.p\n",
      "Loading traces for traces/PYY_300.0_A_D_trace.p\n"
     ]
    }
   ],
   "source": [
    "## Make list of traces and filenames\n",
    "tracelist = glob.glob('traces/*trace.p')\n",
    "filenamelist = []\n",
    "for trace in tracelist:\n",
    "    filename = trace.split('/')[0]+'/'+trace.split('/')[1].replace('trace', 'filenames')\n",
    "    filenamelist.append(filename)\n",
    "    \n",
    "## Build dataframe of posterior means\n",
    "thetas = ['theta1', 'theta2', 'theta3', 'theta4', 'theta5', 'theta6', 'theta7', 'theta8']\n",
    "dfs = []\n",
    "for i, tracename in enumerate(tracelist):\n",
    "    print 'Loading traces for %s' %(tracename)\n",
    "    trace = pickle.load(open(tracename, 'rb'))\n",
    "    subjs = pickle.load(open(filenamelist[i], 'rb'))\n",
    "    \n",
    "    df = helpers.make_single_pm_df(trace, subjs, thetas)\n",
    "    dfs.append(df)"
   ]
  },
  {
   "cell_type": "code",
   "execution_count": null,
   "metadata": {
    "collapsed": true
   },
   "outputs": [],
   "source": [
    "## Concatenate dataframes\n",
    "full_df = pd.concat(dfs)\n",
    "pickle.dump(full_df, open('pm_df.p', 'wb'))"
   ]
  },
  {
   "cell_type": "code",
   "execution_count": null,
   "metadata": {
    "collapsed": true
   },
   "outputs": [],
   "source": []
  }
 ],
 "metadata": {
  "kernelspec": {
   "display_name": "Python 2",
   "language": "python",
   "name": "python2"
  },
  "language_info": {
   "codemirror_mode": {
    "name": "ipython",
    "version": 2
   },
   "file_extension": ".py",
   "mimetype": "text/x-python",
   "name": "python",
   "nbconvert_exporter": "python",
   "pygments_lexer": "ipython2",
   "version": "2.7.13"
  }
 },
 "nbformat": 4,
 "nbformat_minor": 2
}
