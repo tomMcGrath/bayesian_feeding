{
 "cells": [
  {
   "cell_type": "code",
   "execution_count": 1,
   "metadata": {},
   "outputs": [
    {
     "data": {
      "text/plain": [
       "<module 'fwd_sample' from 'fwd_sample.pyc'>"
      ]
     },
     "execution_count": 1,
     "metadata": {},
     "output_type": "execute_result"
    }
   ],
   "source": [
    "import numpy as np\n",
    "import matplotlib.pyplot as plt\n",
    "import os\n",
    "import matplotlib as mpl\n",
    "import matplotlib.cm as cm\n",
    "import cPickle as pickle\n",
    "import helpers\n",
    "import fwd_sample as fs\n",
    "reload(fs)"
   ]
  },
  {
   "cell_type": "markdown",
   "metadata": {},
   "source": [
    "# Figure directories"
   ]
  },
  {
   "cell_type": "code",
   "execution_count": 2,
   "metadata": {
    "collapsed": true
   },
   "outputs": [],
   "source": [
    "local_dir = 'paper_figures/'\n",
    "paper_dir = '/home/tmcgrath/Dropbox/Apps/ShareLaTeX/CLAMS to PLoS CB/figures/'"
   ]
  },
  {
   "cell_type": "markdown",
   "metadata": {},
   "source": [
    "# Import PyMC3 traces"
   ]
  },
  {
   "cell_type": "code",
   "execution_count": 3,
   "metadata": {
    "collapsed": true
   },
   "outputs": [],
   "source": [
    "trace = pickle.load(open(\"PYY_Lep_8hr_trace.p\", \"rb\"))\n",
    "subj_data = pickle.load(open(\"PYY_Lep_8hr_subj.p\", \"rb\"))"
   ]
  },
  {
   "cell_type": "markdown",
   "metadata": {},
   "source": [
    "# Create colourmappers and marker styles"
   ]
  },
  {
   "cell_type": "code",
   "execution_count": 4,
   "metadata": {
    "collapsed": true
   },
   "outputs": [],
   "source": [
    "## Create day/night line and marker style\n",
    "period_ms = {'L':'o', 'D':'^'}\n",
    "period_ls = {'L':'-', 'D':'--'}"
   ]
  },
  {
   "cell_type": "markdown",
   "metadata": {},
   "source": [
    "# Group indexing"
   ]
  },
  {
   "cell_type": "code",
   "execution_count": 5,
   "metadata": {
    "collapsed": true
   },
   "outputs": [],
   "source": [
    "## Index mask\n",
    "rat_idx = np.unique(trace['theta1'][0,:], return_index=True)[1]\n",
    "rat_idx = sorted(rat_idx)\n",
    "\n",
    "## Subject data\n",
    "subj_labels = []\n",
    "\n",
    "for i in subj_data:\n",
    "    subj_labels.append(i[1].split('_'))\n",
    "    \n",
    "subj_labels = np.array(subj_labels)\n",
    "\n",
    "## Amount colourmapper\n",
    "amts_save = []\n",
    "for i, idx in enumerate(rat_idx):\n",
    "    ## Formatting stuff\n",
    "    data = subj_labels[i]    \n",
    "    path = 'all_data/' + '_'.join(data[0:4])\n",
    "    filename = '_'.join(data)\n",
    "    amt = helpers.rate_from_file(path, filename)\n",
    "    amts_save.append(amt)\n",
    "    \n",
    "amt_norm = mpl.colors.Normalize(vmin = min(amts_save),\n",
    "                                vmax = max(amts_save))\n",
    "\n",
    "cmap = cm.plasma\n",
    "\n",
    "amt_col = cm.ScalarMappable(norm=amt_norm, cmap=cmap)"
   ]
  },
  {
   "cell_type": "markdown",
   "metadata": {},
   "source": [
    "# Figure 4a - how well can we predict feeding behaviour into the future? Correlation times"
   ]
  },
  {
   "cell_type": "code",
   "execution_count": 6,
   "metadata": {},
   "outputs": [
    {
     "data": {
      "image/png": "[encoded data removed]",
      "text/plain": [
       "<matplotlib.figure.Figure at 0x7f0534aa6f90>"
      ]
     },
     "metadata": {},
     "output_type": "display_data"
    }
   ],
   "source": [
    "reload(fs)\n",
    "resamples = 1000\n",
    "\n",
    "thetas = ['theta1', 'theta2', 'theta3', 'theta4', 'theta5', 'theta6', 'theta7', 'theta8']\n",
    "\n",
    "data = []\n",
    "\n",
    "for theta in thetas:\n",
    "    data.append(np.mean(helpers.get_indiv(trace[theta], rat_idx), axis=0))\n",
    "\n",
    "data = np.array(data).T\n",
    "\n",
    "amts = []\n",
    "durs = []\n",
    "\n",
    "for i in range(resamples):\n",
    "    x, amount_eaten, num_events, bout_lengths, short_lengths, long_lengths, events = fs.sample_meal(data[0], 0.0)\n",
    "    amts.append(amount_eaten)\n",
    "    durs.append(sum(bout_lengths) + sum(short_lengths))\n",
    "\n",
    "plt.hist(amts, bins=20)\n",
    "plt.show()"
   ]
  },
  {
   "cell_type": "markdown",
   "metadata": {},
   "source": [
    "# Figure 4b - how does stomach fullness at meal onset influence meal size?"
   ]
  },
  {
   "cell_type": "code",
   "execution_count": 60,
   "metadata": {
    "scrolled": true
   },
   "outputs": [
    {
     "data": {
      "image/png": "[encoded data removed]",
      "text/plain": [
       "<matplotlib.figure.Figure at 0x7f05310660d0>"
      ]
     },
     "metadata": {},
     "output_type": "display_data"
    }
   ],
   "source": [
    "reload(fs)\n",
    "resamples = 10000\n",
    "tmax = 60*60*8\n",
    "xmax = 15.0\n",
    "x0 = 0.0\n",
    "\n",
    "thetas = ['theta1', 'theta2', 'theta3', 'theta4', 'theta5', 'theta6', 'theta7', 'theta8']\n",
    "\n",
    "data = []\n",
    "\n",
    "for theta in thetas:\n",
    "    data.append(np.mean(helpers.get_indiv(trace[theta], rat_idx), axis=0))\n",
    "\n",
    "data = np.array(data).T\n",
    "\n",
    "amts = []\n",
    "durs = []\n",
    "\n",
    "amts2 = []\n",
    "\n",
    "for i in range(resamples):\n",
    "    #print i\n",
    "    #print '--- NEW SAMPLE ---'\n",
    "    x, amount_eaten, num_events, bout_lengths, short_lengths, long_lengths, events = fs.sample_lim_x(tmax, data[100], x0, xmax)\n",
    "    x, amount_eaten2, num_events, bout_lengths, short_lengths, long_lengths, events = fs.sample_lim_x(tmax, data[100], x0, 100)\n",
    "    amts.append(3.5*amount_eaten)\n",
    "    amts2.append(3.5*amount_eaten2)\n",
    "\n",
    "#plt.hist(amts, bins=20)\n",
    "plt.hist([amts, amts2], bins=20, normed=True)\n",
    "\n",
    "plt.show()"
   ]
  },
  {
   "cell_type": "markdown",
   "metadata": {},
   "source": [
    "# Figure 4c - how do individual behavioural parameters influence response to behavioural perturbations? e.g. cut off feeding at some fullness level"
   ]
  },
  {
   "cell_type": "code",
   "execution_count": 48,
   "metadata": {},
   "outputs": [
    {
     "data": {
      "image/png": "[encoded data removed]",
      "text/plain": [
       "<matplotlib.figure.Figure at 0x7f05310d1890>"
      ]
     },
     "metadata": {},
     "output_type": "display_data"
    }
   ],
   "source": [
    "reload(fs)\n",
    "\n",
    "tmax = 60*60*8\n",
    "\n",
    "x, amount_eaten, num_events, bout_lengths, short_lengths, long_lengths, events = fs.sample(tmax, data[0], x0)\n",
    "\n",
    "plt.plot(x)\n",
    "plt.show()"
   ]
  },
  {
   "cell_type": "markdown",
   "metadata": {},
   "source": [
    "# Figure 4d - how well can we classify individuals using an SVM trained on parameter datapoints?"
   ]
  },
  {
   "cell_type": "code",
   "execution_count": null,
   "metadata": {
    "collapsed": true
   },
   "outputs": [],
   "source": []
  }
 ],
 "metadata": {
  "kernelspec": {
   "display_name": "Python 2",
   "language": "python",
   "name": "python2"
  },
  "language_info": {
   "codemirror_mode": {
    "name": "ipython",
    "version": 2
   },
   "file_extension": ".py",
   "mimetype": "text/x-python",
   "name": "python",
   "nbconvert_exporter": "python",
   "pygments_lexer": "ipython2",
   "version": "2.7.13"
  }
 },
 "nbformat": 4,
 "nbformat_minor": 2
}
