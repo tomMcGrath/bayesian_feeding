{
 "cells": [
  {
   "cell_type": "code",
   "execution_count": 151,
   "metadata": {
    "collapsed": true
   },
   "outputs": [],
   "source": [
    "import numpy as np\n",
    "import matplotlib.pyplot as plt\n",
    "import helpers\n",
    "import os\n",
    "import scipy"
   ]
  },
  {
   "cell_type": "code",
   "execution_count": 152,
   "metadata": {
    "collapsed": true
   },
   "outputs": [],
   "source": [
    "data_dir = 'new_all_data/'"
   ]
  },
  {
   "cell_type": "markdown",
   "metadata": {},
   "source": [
    "## Checking for anomalous bout duration and rate datasets"
   ]
  },
  {
   "cell_type": "code",
   "execution_count": 153,
   "metadata": {},
   "outputs": [
    {
     "data": {
      "image/png": "[encoded data removed]",
      "text/plain": [
       "<matplotlib.figure.Figure at 0x7fe3396437d0>"
      ]
     },
     "metadata": {},
     "output_type": "display_data"
    }
   ],
   "source": [
    "reload(helpers)\n",
    "\n",
    "x = []\n",
    "y = []\n",
    "filenames = []\n",
    "\n",
    "for walker in os.walk(data_dir):\n",
    "    path = walker[0] + '/'\n",
    "    filelist = walker[2]\n",
    "    \n",
    "    if len(filelist) == 0:\n",
    "        continue\n",
    "    \n",
    "    for datafile in filelist:\n",
    "        data = np.loadtxt(path + datafile,\n",
    "                          delimiter = '\\t',\n",
    "                          usecols = (0,1,2,3,4))\n",
    "        \n",
    "        mean_dur = np.mean(data[:,0])\n",
    "        mean_rate = np.mean(data[:,2])\n",
    "        \n",
    "        x.append(mean_dur)\n",
    "        y.append(mean_rate)\n",
    "        filenames.append(datafile)\n",
    "        \n",
    "foo = np.array([x, y, filenames]).T\n",
    "        \n",
    "fig, ax = plt.subplots(1)\n",
    "#ax.set_xscale('log')\n",
    "#ax.set_yscale('log')\n",
    "ax.set_ylim([0, 0.015])\n",
    "ax.scatter(x,y)\n",
    "plt.show()"
   ]
  },
  {
   "cell_type": "code",
   "execution_count": 154,
   "metadata": {},
   "outputs": [
    {
     "name": "stdout",
     "output_type": "stream",
     "text": [
      "(252, 3)\n",
      "['163.452380952' '0.00162402286727' 'PYY_7.5_A_D_5_8_2015-02-09.B0105.CSV']\n"
     ]
    }
   ],
   "source": [
    "print foo.shape\n",
    "\n",
    "print sorted(foo, key=lambda x:x[1], reverse=False)[0]"
   ]
  },
  {
   "cell_type": "markdown",
   "metadata": {},
   "source": [
    "## Logistic regression parameters"
   ]
  },
  {
   "cell_type": "markdown",
   "metadata": {},
   "source": [
    "## Long duration regression parameters"
   ]
  },
  {
   "cell_type": "code",
   "execution_count": 160,
   "metadata": {},
   "outputs": [
    {
     "data": {
      "image/png": "[encoded data removed]",
      "text/plain": [
       "<matplotlib.figure.Figure at 0x7fe3400b95d0>"
      ]
     },
     "metadata": {},
     "output_type": "display_data"
    }
   ],
   "source": [
    "reload(helpers)\n",
    "\n",
    "cutoff = 300\n",
    "\n",
    "slopes = []\n",
    "intercepts = []\n",
    "filenames = []\n",
    "\n",
    "fig, ax = plt.subplots(1)\n",
    "\n",
    "for walker in os.walk(data_dir):\n",
    "    path = walker[0] + '/'\n",
    "    filelist = walker[2]\n",
    "    \n",
    "    if len(filelist) == 0:\n",
    "        continue\n",
    "    \n",
    "    for datafile in filelist:\n",
    "        x = []\n",
    "        y = []\n",
    "        \n",
    "        data = np.loadtxt(path + datafile,\n",
    "                          delimiter = '\\t',\n",
    "                          usecols = (0,1,2,3,4))\n",
    "        \n",
    "        for i in data:\n",
    "            if i[3] > cutoff:\n",
    "                x.append(i[4])\n",
    "                y.append(i[3])\n",
    "                \n",
    "        slope, intercept, r_value, p_value, std_err = scipy.stats.linregress(x,y)\n",
    "        \n",
    "        slopes.append(slope)\n",
    "        intercepts.append(intercept)\n",
    "        filenames.append(datafile)\n",
    "        \n",
    "ax.scatter(slopes, intercepts)\n",
    "ax.set_xlabel('slope')\n",
    "ax.set_ylabel('intercept')\n",
    "\n",
    "#ax.set_xlim([-20000, 20000])\n",
    "#ax.set_ylim([-15000, 150000])\n",
    "\n",
    "#ax.set_xlim([-5000, 5000])\n",
    "#ax.set_ylim([-15000, 20000])\n",
    "\n",
    "ax.axvline(-1000, c='k', ls='--')\n",
    "ax.axvline(2500, c='k', ls='--')\n",
    "\n",
    "plt.show()"
   ]
  },
  {
   "cell_type": "code",
   "execution_count": 156,
   "metadata": {},
   "outputs": [
    {
     "name": "stdout",
     "output_type": "stream",
     "text": [
      "304403.283408 LiCl_64.0_R_L_5_8_2014-10-17.B0105.CSV\n",
      "-10066.7490048 saline_0.0_R_L_4_10_2015-11-23.B0104.CSV\n",
      "32782.0461962 LiCl_64.0_R_L_9_8_2014-10-27.B0109.CSV\n",
      "-87000.9457656 LiCl_64.0_R_L_5_8_2014-10-17.B0105.CSV\n"
     ]
    }
   ],
   "source": [
    "print np.max(intercepts), filenames[np.argmax(intercepts)]\n",
    "print np.min(intercepts), filenames[np.argmin(intercepts)]\n",
    "\n",
    "print np.max(slopes), filenames[np.argmax(slopes)]\n",
    "print np.min(slopes), filenames[np.argmin(slopes)]"
   ]
  },
  {
   "cell_type": "code",
   "execution_count": 157,
   "metadata": {},
   "outputs": [
    {
     "data": {
      "image/png": "[encoded data removed]",
      "text/plain": [
       "<matplotlib.figure.Figure at 0x7fe3397e6210>"
      ]
     },
     "metadata": {},
     "output_type": "display_data"
    },
    {
     "data": {
      "image/png": "[encoded data removed]",
      "text/plain": [
       "<matplotlib.figure.Figure at 0x7fe339cac550>"
      ]
     },
     "metadata": {},
     "output_type": "display_data"
    }
   ],
   "source": [
    "import plot_ts\n",
    "\n",
    "def plot_l_pause(path, filename, ax):\n",
    "    filepath = path + '/' + filename\n",
    "    data = np.loadtxt(filepath, delimiter='\\t', usecols=(0,1,2,3,4))\n",
    "    ax.scatter(data[:,4], data[:,3])\n",
    "    return ax\n",
    "\n",
    "def plot_ts_from_file(path, filename):\n",
    "    filepath = path + '/' + filename\n",
    "    data = np.loadtxt(filepath, delimiter='\\t', usecols=(0,1,2,3,4))\n",
    "    plot_ts.ts_from_bouts(data)\n",
    "\n",
    "filename = filenames[np.argmax(intercepts)]\n",
    "\n",
    "path = filename.split('_')\n",
    "path = '_'.join(path[0:4])\n",
    "path = data_dir + path\n",
    "\n",
    "fig, ax = plt.subplots(1)\n",
    "ax = plot_l_pause(path, filename, ax)\n",
    "plot_ts_from_file(path, filename)\n",
    "plt.show()"
   ]
  },
  {
   "cell_type": "markdown",
   "metadata": {},
   "source": [
    "## Delete files whose slope is too high or low"
   ]
  },
  {
   "cell_type": "code",
   "execution_count": 159,
   "metadata": {},
   "outputs": [
    {
     "name": "stdout",
     "output_type": "stream",
     "text": [
      "saline_0.0_R_L_1_8_2014-11-10.B0101.CSV\n"
     ]
    },
    {
     "ename": "OSError",
     "evalue": "[Errno 2] No such file or directory: 'new_all_data/saline_0.0_R_L/saline_0.0_R_L_1_8_2014-11-10.B0101.CSV'",
     "output_type": "error",
     "traceback": [
      "\u001b[0;31m---------------------------------------------------------------------------\u001b[0m",
      "\u001b[0;31mOSError\u001b[0m                                   Traceback (most recent call last)",
      "\u001b[0;32m<ipython-input-159-c361d02d0a36>\u001b[0m in \u001b[0;36m<module>\u001b[0;34m()\u001b[0m\n\u001b[1;32m     11\u001b[0m         \u001b[0mpath\u001b[0m \u001b[0;34m=\u001b[0m \u001b[0mdata_dir\u001b[0m \u001b[0;34m+\u001b[0m \u001b[0mpath\u001b[0m\u001b[0;34m\u001b[0m\u001b[0m\n\u001b[1;32m     12\u001b[0m \u001b[0;34m\u001b[0m\u001b[0m\n\u001b[0;32m---> 13\u001b[0;31m         \u001b[0mos\u001b[0m\u001b[0;34m.\u001b[0m\u001b[0mremove\u001b[0m\u001b[0;34m(\u001b[0m\u001b[0mpath\u001b[0m\u001b[0;34m+\u001b[0m\u001b[0mfilename\u001b[0m\u001b[0;34m)\u001b[0m\u001b[0;34m\u001b[0m\u001b[0m\n\u001b[0m\u001b[1;32m     14\u001b[0m \u001b[0;34m\u001b[0m\u001b[0m\n\u001b[1;32m     15\u001b[0m     \u001b[0;32mif\u001b[0m \u001b[0mslope\u001b[0m \u001b[0;34m<\u001b[0m \u001b[0mslope_min\u001b[0m\u001b[0;34m:\u001b[0m\u001b[0;34m\u001b[0m\u001b[0m\n",
      "\u001b[0;31mOSError\u001b[0m: [Errno 2] No such file or directory: 'new_all_data/saline_0.0_R_L/saline_0.0_R_L_1_8_2014-11-10.B0101.CSV'"
     ]
    }
   ],
   "source": [
    "slope_max = 2500\n",
    "slope_min = -1500\n",
    "\n",
    "for i, slope in enumerate(slopes):\n",
    "    if slope > slope_max:\n",
    "        print filenames[i]\n",
    "        \n",
    "        filename = filenames[i]\n",
    "        path = filename.split('_')\n",
    "        path = '_'.join(path[0:4]) + '/'\n",
    "        path = data_dir + path\n",
    "        \n",
    "        os.remove(path+filename)\n",
    "        \n",
    "    if slope < slope_min:\n",
    "        print filenames[i]\n",
    "        \n",
    "        filename = filenames[i]\n",
    "        path = filename.split('_')\n",
    "        path = '_'.join(path[0:4]) + '/'\n",
    "        path = data_dir + path\n",
    "        \n",
    "        os.remove(path+filename)"
   ]
  },
  {
   "cell_type": "code",
   "execution_count": null,
   "metadata": {
    "collapsed": true
   },
   "outputs": [],
   "source": []
  }
 ],
 "metadata": {
  "kernelspec": {
   "display_name": "Python 2",
   "language": "python",
   "name": "python2"
  },
  "language_info": {
   "codemirror_mode": {
    "name": "ipython",
    "version": 2
   },
   "file_extension": ".py",
   "mimetype": "text/x-python",
   "name": "python",
   "nbconvert_exporter": "python",
   "pygments_lexer": "ipython2",
   "version": "2.7.13"
  }
 },
 "nbformat": 4,
 "nbformat_minor": 2
}
