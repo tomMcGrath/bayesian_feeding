{
 "cells": [
  {
   "cell_type": "code",
   "execution_count": 2,
   "metadata": {
    "collapsed": true
   },
   "outputs": [],
   "source": [
    "import sys\n",
    "import os\n",
    "import theano\n",
    "import theano.tensor as tt\n",
    "import matplotlib.pyplot as plt\n",
    "import numpy as np\n",
    "import pymc3 as pm\n",
    "import PDMP_ll as ll\n",
    "import cPickle as pickle\n",
    "from IPython.display import display\n",
    "#from IPython.html.widgets import *\n",
    "from ipywidgets import widgets\n",
    "from ipywidgets import interact\n",
    "from sklearn import manifold"
   ]
  },
  {
   "cell_type": "code",
   "execution_count": 37,
   "metadata": {
    "collapsed": true
   },
   "outputs": [],
   "source": [
    "trace = pickle.load(open(\"all_PYY_4hr_trace.p\", \"rb\"))\n",
    "subj_data = pickle.load(open(\"all_PYY_4hr_subj.p\", \"rb\"))"
   ]
  },
  {
   "cell_type": "code",
   "execution_count": 38,
   "metadata": {},
   "outputs": [
    {
     "name": "stdout",
     "output_type": "stream",
     "text": [
      "['300.0' '300.0' '300.0' '300.0' '300.0' '300.0' '300.0' '300.0' '300.0'\n",
      " '300.0' '1.5' '1.5' '1.5' '1.5' '1.5' '1.5' '1.5' '1.5' '1.5' '1.5' '1.5'\n",
      " '7.5' '7.5' '7.5' '7.5' '7.5' '7.5' '7.5' '7.5' '7.5' '7.5' '7.5' '7.5'\n",
      " '7.5' '7.5' '7.5' '7.5' '7.5' '7.5' '7.5' '7.5' '7.5' '1.5' '1.5' '1.5'\n",
      " '1.5' '1.5' '1.5' '1.5' '1.5' '1.5' '0.0' '0.0' '0.0' '0.0' '0.0' '0.0'\n",
      " '0.0' '0.0' '0.0' '0.0' '0.0' '0.0' '0.0' '0.0' '0.0' '0.0' '0.0' '0.0'\n",
      " '0.0' '0.0' '300.0' '300.0' '300.0' '300.0' '300.0' '300.0' '300.0'\n",
      " '300.0' '300.0' '300.0' '300.0' '0.0' '0.0' '0.0' '0.0' '0.0' '0.0' '0.0'\n",
      " '0.0' '0.0' '0.0' '0.0' '0.0' '0.0' '0.0' '0.0' '0.0' '0.0' '0.0' '0.0'\n",
      " '0.0' '0.0' '0.0']\n"
     ]
    }
   ],
   "source": [
    "import matplotlib as mpl\n",
    "import matplotlib.cm as cm\n",
    "\n",
    "subj_labels = []\n",
    "\n",
    "for i in subj_data:\n",
    "    subj_labels.append(i[1].split('_'))\n",
    "    \n",
    "subj_labels = np.array(subj_labels)\n",
    "print subj_labels[:,1]\n",
    "\n",
    "rat_idx = np.unique(trace['theta1'][0,:], return_index=True)[1]\n",
    "rat_idx = sorted(rat_idx)\n",
    "\n",
    "def get_indiv(trace, idx):\n",
    "    num_samples = trace.shape[0]\n",
    "    \n",
    "    data_holder = []\n",
    "    for i in range(0, num_samples):\n",
    "        data_holder.append(trace[i, idx])\n",
    "    \n",
    "    data = np.stack(data_holder)\n",
    "    return data\n",
    "\n",
    "## Create metadata holder\n",
    "metadata = []\n",
    "groups = []\n",
    "\n",
    "for i in subj_data:\n",
    "    x = []\n",
    "    group = i[0].split('/')[1]\n",
    "    x.append(group)\n",
    "    x += i[1].split('_')\n",
    "    \n",
    "    metadata.append(x)\n",
    "    \n",
    "    if group not in groups:\n",
    "        groups.append(group)\n",
    "        \n",
    "group_id_dict = {}\n",
    "for i, group_name in enumerate(groups):\n",
    "    group_id_dict[i] = group_name\n",
    "    \n",
    "group_list = np.arange(len(groups))\n",
    "        \n",
    "## Create group colourmapper\n",
    "norm = mpl.colors.Normalize(vmin = 0,\n",
    "                            vmax = len(groups))\n",
    "\n",
    "cmap = cm.Paired\n",
    "\n",
    "group_col = cm.ScalarMappable(norm=norm, cmap=cmap)\n",
    "\n",
    "## Create dose colourmapper\n",
    "norm = mpl.colors.PowerNorm(vmin = 0.0,\n",
    "                            vmax = 300,\n",
    "                            gamma = 0.1)\n",
    "\n",
    "cmap = cm.plasma\n",
    "\n",
    "dose_col = cm.ScalarMappable(norm=norm, cmap=cmap)\n",
    "\n",
    "## Create amount & rate colourmappers\n",
    "durs = []\n",
    "def qty_from_file(filename):\n",
    "    data = np.loadtxt(filename,delimiter='\\t',usecols=(0,1,2,3,4))\n",
    "\n",
    "    f_lengths = data[:,0]\n",
    "    g_starts = data[:,1]\n",
    "    rates = data[:,2]\n",
    "    p_lengths = data[:,3]\n",
    "    g_ends = data[:,4]\n",
    "    \n",
    "    qty = rates*f_lengths\n",
    "    dur = sum(f_lengths) + sum(p_lengths)\n",
    "    durs.append(dur)\n",
    "    return sum(qty)\n",
    "\n",
    "## Import amounts\n",
    "amts_save = []\n",
    "for i, idx in enumerate(rat_idx):\n",
    "    ## Formatting stuff\n",
    "    data = subj_labels[i]    \n",
    "    path = 'all_data/' + '_'.join(data[0:4])\n",
    "    filename = '_'.join(data)\n",
    "    amt = qty_from_file(path + '/' + filename)\n",
    "    \n",
    "    amts_save.append(amt)\n",
    "    \n",
    "amt_norm = mpl.colors.Normalize(vmin = min(amts_save),\n",
    "                                vmax = max(amts_save))\n",
    "\n",
    "cmap = cm.plasma\n",
    "\n",
    "amt_col = cm.ScalarMappable(norm=amt_norm, cmap=cmap)\n",
    "\"\"\"\n",
    "fig, ax = plt.subplots(1)\n",
    "ax.scatter(durs, amts_save)\n",
    "ax.set_ylim((min(amts_save), max(amts_save)))\n",
    "\"\"\"\n",
    "## Create day/night specific amount colourmapper\n",
    "day_amts = []\n",
    "night_amts = []\n",
    "for i, idx in enumerate(rat_idx):\n",
    "    ## Formatting stuff\n",
    "    data = subj_labels[i]\n",
    "    path = 'all_data/' + '_'.join(data[0:4])\n",
    "    filename = '_'.join(data)\n",
    "    \n",
    "    if data[3] == 'L':\n",
    "        day_amts.append(qty_from_file(path + '/' + filename))\n",
    "        \n",
    "    else:\n",
    "        night_amts.append(qty_from_file(path + '/' + filename))\n",
    "    \n",
    "day_norm = mpl.colors.Normalize(vmin = min(day_amts),\n",
    "                                vmax = max(day_amts))\n",
    "    \n",
    "night_norm = mpl.colors.Normalize(vmin = min(night_amts),\n",
    "                                  vmax = max(night_amts))\n",
    "\n",
    "cmap = cm.plasma\n",
    "\n",
    "day_amt_col = cm.ScalarMappable(norm=day_norm, cmap=cmap)\n",
    "night_amt_col = cm.ScalarMappable(norm=night_norm, cmap=cmap)\n",
    "\n",
    "## Create day/night line and marker style\n",
    "period_ms = {'L':'o', 'D':'^'}\n",
    "period_ls = {'L':'-', 'D':'--'}\n",
    "\n",
    "## Create drug-dependent dose colourmappers\n",
    "## PYY\n",
    "PYY_dict = {1.5:4, 7.5:7, 300.0:10}\n",
    "PYY_norm = mpl.colors.Normalize(vmin = 0.0,\n",
    "                                vmax = 10)\n",
    "\n",
    "PYY_cmap = cm.Greens\n",
    "\n",
    "PYY_dose_col = cm.ScalarMappable(norm=PYY_norm, cmap=PYY_cmap)\n",
    "\n",
    "## LiCL\n",
    "LiCL_norm = mpl.colors.Normalize(vmin = 0.0,\n",
    "                                 vmax = 64.0)\n",
    "\n",
    "LiCL_cmap = cm.Reds\n",
    "\n",
    "LiCL_dose_col = cm.ScalarMappable(norm=LiCL_norm, cmap=LiCL_cmap)\n",
    "\n",
    "## Lep\n",
    "Lep_norm = mpl.colors.Normalize(vmin = 0.0,\n",
    "                                vmax = 2.0)\n",
    "\n",
    "Lep_cmap = cm.coolwarm\n",
    "\n",
    "Lep_dose_col = cm.ScalarMappable(norm=Lep_norm, cmap=Lep_cmap)\n",
    "\n",
    "## Cage ID colourmap\n",
    "cage_IDs = []\n",
    "for i, idx in enumerate(rat_idx):\n",
    "    ## Formatting stuff\n",
    "    data = subj_labels[i]\n",
    "    path = 'all_data/' + '_'.join(data[0:4])\n",
    "    filename = '_'.join(data)\n",
    "    \n",
    "    cage_IDs.append(float(data[4]))\n",
    "    \n",
    "cage_norm = mpl.colors.Normalize(vmin = min(cage_IDs),\n",
    "                                 vmax = max(cage_IDs))\n",
    "cage_cmap = cm.tab20\n",
    "\n",
    "cage_col = cm.ScalarMappable(norm=cage_norm, cmap=cage_cmap)\n",
    "\n",
    "def dose_colour(group_data):\n",
    "    if group_data[0] == 'saline' and group_data[2] == 'N':\n",
    "        c_dose = 'k'\n",
    "\n",
    "    elif group_data[0] == 'saline' and group_data[2] == 'R':\n",
    "        c_dose = 'b'\n",
    "\n",
    "    elif group_data[0] == 'LiCL':\n",
    "        c_dose = LiCL_dose_col.to_rgba(dose)\n",
    "\n",
    "    elif group_data[0] == 'PYY':\n",
    "        c_dose = PYY_dose_col.to_rgba(PYY_dict[dose])\n",
    "\n",
    "    elif group_data[0] == 'Lep':\n",
    "        c_dose = 'y'\n",
    "\n",
    "    else:\n",
    "        print \"ERROR\", data\n",
    "\n",
    "    return c_dose"
   ]
  },
  {
   "cell_type": "markdown",
   "metadata": {},
   "source": [
    "# Create dataset"
   ]
  },
  {
   "cell_type": "code",
   "execution_count": 47,
   "metadata": {},
   "outputs": [],
   "source": [
    "import numpy as np\n",
    "from sklearn import preprocessing\n",
    "\n",
    "thetas = ['theta1', 'theta3', 'theta4', 'theta5', 'theta6', 'theta7', 'theta8', 'theta9']\n",
    "\n",
    "data = []\n",
    "\n",
    "for theta in thetas:\n",
    "    data.append(np.mean(get_indiv(trace[theta], rat_idx), axis=0))\n",
    "\n",
    "data = np.array(data).T\n",
    "\n",
    "data = preprocessing.scale(data)"
   ]
  },
  {
   "cell_type": "markdown",
   "metadata": {},
   "source": [
    "# t-SNE"
   ]
  },
  {
   "cell_type": "code",
   "execution_count": 64,
   "metadata": {},
   "outputs": [
    {
     "data": {
      "image/png": "[encoded data removed]",
      "text/plain": [
       "<matplotlib.figure.Figure at 0x7fe6b2445f90>"
      ]
     },
     "metadata": {},
     "output_type": "display_data"
    }
   ],
   "source": [
    "model = manifold.TSNE(n_components=2,\n",
    "                      learning_rate=10,\n",
    "                      n_iter=1000000)\n",
    "X = model.fit_transform(data)\n",
    "\n",
    "for i, idx in enumerate(rat_idx):\n",
    "    ## Formatting stuff\n",
    "    subj_data = subj_labels[i]\n",
    "    dose = float(subj_data[1])\n",
    "\n",
    "    if subj_data[0] == 'saline' and subj_data[2] == 'N':\n",
    "        c = 'k'\n",
    "        #continue\n",
    "        \n",
    "    elif subj_data[0] == 'saline' and subj_data[2] == 'R':\n",
    "        c = 'b'\n",
    "        #continue\n",
    "        \n",
    "    elif subj_data[0] == 'PYY':\n",
    "        c = PYY_dose_col.to_rgba(PYY_dict[dose])\n",
    "        #continue\n",
    "        \n",
    "    else:\n",
    "        print \"ERROR\", subj_data\n",
    "        \n",
    "    ## Get feeding data\n",
    "       \n",
    "    path = 'all_data/' + '_'.join(subj_data[0:4])\n",
    "    filename = '_'.join(subj_data)\n",
    "    amt = qty_from_file(path + '/' + filename)\n",
    "\n",
    "    c = amt_col.to_rgba(amt)\n",
    "    \n",
    "    ms = period_ms[subj_data[3]]\n",
    "\n",
    "    plt.scatter(X[i,0], X[i,1], c=c, marker=ms)\n",
    "    \n",
    "plt.show()"
   ]
  },
  {
   "cell_type": "markdown",
   "metadata": {},
   "source": [
    "# Isomap"
   ]
  },
  {
   "cell_type": "code",
   "execution_count": 62,
   "metadata": {
    "scrolled": false
   },
   "outputs": [
    {
     "data": {
      "image/png": "[encoded data removed]",
      "text/plain": [
       "<matplotlib.figure.Figure at 0x7fe6b9c65190>"
      ]
     },
     "metadata": {},
     "output_type": "display_data"
    }
   ],
   "source": [
    "model = manifold.Isomap(6, n_components=2)\n",
    "X = model.fit_transform(data)\n",
    "fig, axes = plt.subplots(1,2, figsize=(15, 7.5))\n",
    "for i, idx in enumerate(rat_idx):\n",
    "    ## Formatting stuff\n",
    "    subj_data = subj_labels[i]\n",
    "    dose = float(subj_data[1])\n",
    "\n",
    "    if subj_data[0] == 'saline' and subj_data[2] == 'N':\n",
    "        c = 'k'\n",
    "        #continue\n",
    "        \n",
    "    elif subj_data[0] == 'saline' and subj_data[2] == 'R':\n",
    "        c = 'b'\n",
    "        #continue\n",
    "        \n",
    "    elif subj_data[0] == 'PYY':\n",
    "        c = PYY_dose_col.to_rgba(PYY_dict[dose])\n",
    "        #continue\n",
    "        \n",
    "    else:\n",
    "        print \"ERROR\", subj_data\n",
    "        \n",
    "    axes[0].scatter(X[i,0], X[i,1], c=c, marker=ms)\n",
    "        \n",
    "    ## Get feeding data\n",
    "    path = 'all_data/' + '_'.join(subj_data[0:4])\n",
    "    filename = '_'.join(subj_data)\n",
    "    amt = qty_from_file(path + '/' + filename)\n",
    "\n",
    "    c = amt_col.to_rgba(amt)\n",
    "    \n",
    "    \n",
    "    ms = period_ms[subj_data[3]]\n",
    "\n",
    "    \n",
    "    axes[1].scatter(X[i,0], X[i,1], c=c, marker=ms)\n",
    "    \n",
    "plt.show()"
   ]
  },
  {
   "cell_type": "markdown",
   "metadata": {},
   "source": [
    "# Spectral embedding"
   ]
  },
  {
   "cell_type": "code",
   "execution_count": 66,
   "metadata": {},
   "outputs": [
    {
     "data": {
      "image/png": "[encoded data removed]",
      "text/plain": [
       "<matplotlib.figure.Figure at 0x7fe6b1fc7910>"
      ]
     },
     "metadata": {},
     "output_type": "display_data"
    }
   ],
   "source": [
    "model = manifold.SpectralEmbedding(n_components=2)\n",
    "X = model.fit_transform(data)\n",
    "\n",
    "for i, idx in enumerate(rat_idx):\n",
    "    ## Formatting stuff\n",
    "    subj_data = subj_labels[i]\n",
    "    dose = float(subj_data[1])\n",
    "\n",
    "    if subj_data[0] == 'saline' and subj_data[2] == 'N':\n",
    "        c = 'k'\n",
    "        #continue\n",
    "        \n",
    "    elif subj_data[0] == 'saline' and subj_data[2] == 'R':\n",
    "        c = 'b'\n",
    "        #continue\n",
    "        \n",
    "    elif subj_data[0] == 'PYY':\n",
    "        c = PYY_dose_col.to_rgba(PYY_dict[dose])\n",
    "        #continue\n",
    "        \n",
    "    else:\n",
    "        print \"ERROR\", subj_data\n",
    "        \n",
    "    ## Get feeding data\n",
    "           \n",
    "    path = 'all_data/' + '_'.join(subj_data[0:4])\n",
    "    filename = '_'.join(subj_data)\n",
    "    amt = qty_from_file(path + '/' + filename)\n",
    "    c = amt_col.to_rgba(amt)\n",
    "    \n",
    "    \n",
    "    ms = period_ms[subj_data[3]]\n",
    "\n",
    "    plt.scatter(X[i,0], X[i,1], c=c, marker=ms)\n",
    "    \n",
    "plt.show()"
   ]
  },
  {
   "cell_type": "markdown",
   "metadata": {},
   "source": [
    "# Locally linear embedding - looks weird"
   ]
  },
  {
   "cell_type": "code",
   "execution_count": 34,
   "metadata": {},
   "outputs": [
    {
     "data": {
      "image/png": "[encoded data removed]",
      "text/plain": [
       "<matplotlib.figure.Figure at 0x7fe6b9e55850>"
      ]
     },
     "metadata": {},
     "output_type": "display_data"
    }
   ],
   "source": [
    "model = manifold.LocallyLinearEmbedding(13, n_components=2)\n",
    "X = model.fit_transform(data)\n",
    "\n",
    "for i, idx in enumerate(rat_idx):\n",
    "    ## Formatting stuff\n",
    "    subj_data = subj_labels[i]\n",
    "    dose = float(subj_data[1])\n",
    "\n",
    "    if subj_data[0] == 'saline' and subj_data[2] == 'N':\n",
    "        c = 'k'\n",
    "        #continue\n",
    "        \n",
    "    elif subj_data[0] == 'saline' and subj_data[2] == 'R':\n",
    "        c = 'b'\n",
    "        #continue\n",
    "        \n",
    "    elif subj_data[0] == 'PYY':\n",
    "        c = PYY_dose_col.to_rgba(PYY_dict[dose])\n",
    "        #continue\n",
    "        \n",
    "    else:\n",
    "        print \"ERROR\", subj_data\n",
    "    \n",
    "    ms = period_ms[subj_data[3]]\n",
    "\n",
    "    plt.scatter(X[i,0], X[i,1], c=c, marker=ms)\n",
    "    \n",
    "plt.show()"
   ]
  },
  {
   "cell_type": "code",
   "execution_count": null,
   "metadata": {
    "collapsed": true
   },
   "outputs": [],
   "source": []
  }
 ],
 "metadata": {
  "kernelspec": {
   "display_name": "Python 2",
   "language": "python",
   "name": "python2"
  },
  "language_info": {
   "codemirror_mode": {
    "name": "ipython",
    "version": 2
   },
   "file_extension": ".py",
   "mimetype": "text/x-python",
   "name": "python",
   "nbconvert_exporter": "python",
   "pygments_lexer": "ipython2",
   "version": "2.7.13"
  }
 },
 "nbformat": 4,
 "nbformat_minor": 2
}
