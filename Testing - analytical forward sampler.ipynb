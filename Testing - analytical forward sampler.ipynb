{
 "cells": [
  {
   "cell_type": "code",
   "execution_count": 2,
   "metadata": {},
   "outputs": [
    {
     "data": {
      "text/plain": [
       "<module 'fwd_likelihoods' from 'fwd_likelihoods.pyc'>"
      ]
     },
     "execution_count": 2,
     "metadata": {},
     "output_type": "execute_result"
    }
   ],
   "source": [
    "import numpy as np\n",
    "import matplotlib.pyplot as plt\n",
    "import os\n",
    "import matplotlib as mpl\n",
    "import matplotlib.cm as cm\n",
    "import cPickle as pickle\n",
    "import helpers\n",
    "import fwd_sample as fs\n",
    "import fwd_likelihoods as ll\n",
    "reload(fs)\n",
    "reload(ll)"
   ]
  },
  {
   "cell_type": "markdown",
   "metadata": {},
   "source": [
    "# Check that the integrator works"
   ]
  },
  {
   "cell_type": "code",
   "execution_count": 32,
   "metadata": {},
   "outputs": [
    {
     "data": {
      "image/png": "[encoded data removed]",
      "text/plain": [
       "<matplotlib.figure.Figure at 0x7f8fb09c58d0>"
      ]
     },
     "metadata": {},
     "output_type": "display_data"
    }
   ],
   "source": [
    "reload(fs)\n",
    "reload(ll)\n",
    "\n",
    "t = np.linspace(0, 20000, 100)\n",
    "\n",
    "x0 = 10\n",
    "k1 = 0.00055\n",
    "theta7 = np.power(10., 3)\n",
    "theta8 = np.power(10., 2.5)\n",
    "\n",
    "t_c = 2.*np.sqrt(x0)/k1\n",
    "\n",
    "x1 = []\n",
    "x2 = []\n",
    "for tval in t:\n",
    "    x1.append(ll.psi_L(tval, x0, k1, theta7, theta8))\n",
    "    x2.append(ll.psi_L_an(tval, x0, k1, theta7, theta8))\n",
    "    \n",
    "plt.plot(t, x1)\n",
    "plt.plot(t, x2)\n",
    "\n",
    "plt.show()"
   ]
  },
  {
   "cell_type": "markdown",
   "metadata": {},
   "source": [
    "# Check that inverse CDF sampling works"
   ]
  },
  {
   "cell_type": "code",
   "execution_count": 40,
   "metadata": {},
   "outputs": [
    {
     "name": "stdout",
     "output_type": "stream",
     "text": [
      "Doing numeric integral\n",
      "Doing analytic integral\n"
     ]
    },
    {
     "data": {
      "image/png": "[encoded data removed]",
      "text/plain": [
       "<matplotlib.figure.Figure at 0x7f8fb0954210>"
      ]
     },
     "metadata": {},
     "output_type": "display_data"
    }
   ],
   "source": [
    "reload(fs)\n",
    "reload(ll)\n",
    "\n",
    "u = np.linspace(0.0001, 0.99999999, 100)\n",
    "\n",
    "x1 = []\n",
    "x2 = []\n",
    "\n",
    "print \"Doing numeric integral\"\n",
    "for uval in u:\n",
    "    x1.append(ll.CDF_inv_L(uval, x0, k1, theta7, theta8))\n",
    "    \n",
    "print \"Doing analytic integral\"\n",
    "for uval in u:\n",
    "    x2.append(ll.CDF_inv_L_an(uval, x0, k1, theta7, theta8))\n",
    "    \n",
    "x1 = np.array(x1)\n",
    "x2 = np.array(x2)\n",
    "\n",
    "#plt.plot(u, x1-x2)\n",
    "    \n",
    "plt.plot(u, x1)\n",
    "plt.plot(u, x2)\n",
    "plt.show()"
   ]
  },
  {
   "cell_type": "markdown",
   "metadata": {},
   "source": [
    "# OK, looks fine"
   ]
  },
  {
   "cell_type": "code",
   "execution_count": null,
   "metadata": {
    "collapsed": true
   },
   "outputs": [],
   "source": []
  }
 ],
 "metadata": {
  "kernelspec": {
   "display_name": "Python 2",
   "language": "python",
   "name": "python2"
  },
  "language_info": {
   "codemirror_mode": {
    "name": "ipython",
    "version": 2
   },
   "file_extension": ".py",
   "mimetype": "text/x-python",
   "name": "python",
   "nbconvert_exporter": "python",
   "pygments_lexer": "ipython2",
   "version": "2.7.13"
  }
 },
 "nbformat": 4,
 "nbformat_minor": 2
}
